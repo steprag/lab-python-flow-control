{
 "cells": [
  {
   "cell_type": "markdown",
   "id": "d3bfc191-8885-42ee-b0a0-bbab867c6f9f",
   "metadata": {
    "tags": []
   },
   "source": [
    "# Lab | Flow Control"
   ]
  },
  {
   "cell_type": "markdown",
   "id": "3851fcd1-cf98-4653-9c89-e003b7ec9400",
   "metadata": {},
   "source": [
    "## Exercise: Managing Customer Orders Optimized\n",
    "\n",
    "In the last lab, you were starting an online store that sells various products. To ensure smooth operations, you developed a program that manages customer orders and inventory.\n",
    "\n",
    "You did so without using flow control. Let's go a step further and improve this code.\n",
    "\n",
    "Follow the steps below to complete the exercise:\n",
    "\n",
    "1. Look at your code from the lab data structures, and improve repeated code with loops.\n",
    "\n",
    "2. Instead of asking the user to input the name of three products that a customer wants to order, do the following:\n",
    "    \n",
    "    a. Prompt the user to enter the name of a product that a customer wants to order.\n",
    "    \n",
    "    b. Add the product name to the \"customer_orders\" set.\n",
    "    \n",
    "    c. Ask the user if they want to add another product (yes/no).\n",
    "    \n",
    "    d. Continue the loop until the user does not want to add another product.\n",
    "\n",
    "3. Instead of updating the inventory by subtracting 1 from the quantity of each product, only do it for  the products that were ordered (those in \"customer_orders\")."
   ]
  },
  {
   "cell_type": "code",
   "execution_count": 17,
   "id": "fb14be14",
   "metadata": {},
   "outputs": [
    {
     "name": "stdout",
     "output_type": "stream",
     "text": [
      "Enter quantity of t-shirt : 5\n",
      "Enter quantity of mug : 5\n",
      "Enter quantity of hat : 5\n",
      "Enter quantity of book : 5\n",
      "Enter quantity of keychain : 5\n"
     ]
    },
    {
     "data": {
      "text/plain": [
       "{'t-shirt': 5, 'mug': 5, 'hat': 5, 'book': 5, 'keychain': 5}"
      ]
     },
     "execution_count": 17,
     "metadata": {},
     "output_type": "execute_result"
    }
   ],
   "source": [
    "products=[\"t-shirt\", \"mug\", \"hat\", \"book\", \"keychain\"]\n",
    "inventory = {}\n",
    "for product in products :\n",
    "    qty = int(input(f\"Enter quantity of {product} : \")) #Ask the user to input the quantity of each product available in the inventory.\n",
    "    inventory[product]=qty #products list as keys in the inventory dictionary and assign the respective quantities as values.\n",
    "inventory\n",
    "\n",
    "\n"
   ]
  },
  {
   "cell_type": "code",
   "execution_count": 20,
   "id": "0955ad08",
   "metadata": {},
   "outputs": [
    {
     "name": "stdout",
     "output_type": "stream",
     "text": [
      "What do u want to order ? :hat\n",
      "Do you want to add another product ? yes or no ? yes\n",
      "What do u want to order ? :love\n",
      "The product is not in the inventory\n",
      "Do you want to add another product ? yes or no ? yes\n",
      "What do u want to order ? :money\n",
      "The product is not in the inventory\n",
      "Do you want to add another product ? yes or no ? yes\n",
      "What do u want to order ? :book\n",
      "Do you want to add another product ? yes or no ? no\n",
      "Customer Orders: {'book', 'hat'}\n"
     ]
    }
   ],
   "source": [
    "cust_ord = set()\n",
    "\n",
    "\n",
    "while True:\n",
    "    product=input(\"What do u want to order ? :\")\n",
    "    if product in products :\n",
    "        cust_ord.add(product)\n",
    "    else :\n",
    "        print(\"The product is not in the inventory\")\n",
    "   \n",
    "    add_another=input(\"Do you want to add another product ? yes or no ? \")\n",
    "    if add_another != \"yes\":  \n",
    "        break\n",
    "\n",
    "print(\"Customer Orders:\", cust_ord)\n"
   ]
  },
  {
   "cell_type": "code",
   "execution_count": 21,
   "id": "48f35989",
   "metadata": {},
   "outputs": [
    {
     "name": "stdout",
     "output_type": "stream",
     "text": [
      "{'t-shirt': 5, 'mug': 5, 'hat': 3, 'book': 4, 'keychain': 5}\n",
      "Update Inventory :\n",
      "t-shirt : 5\n",
      "mug : 5\n",
      "hat : 3\n",
      "book : 4\n",
      "keychain : 5\n"
     ]
    }
   ],
   "source": [
    "for product in cust_ord : \n",
    "    inventory[product] -= 1\n",
    "        \n",
    "print(inventory)\n",
    "\n",
    "print(\"Update Inventory :\")\n",
    "for product,qty in inventory.items() :\n",
    "    print(f\"{product} : {qty}\")"
   ]
  },
  {
   "cell_type": "code",
   "execution_count": null,
   "id": "2ed285d4",
   "metadata": {},
   "outputs": [],
   "source": []
  }
 ],
 "metadata": {
  "kernelspec": {
   "display_name": "Python 3 (ipykernel)",
   "language": "python",
   "name": "python3"
  },
  "language_info": {
   "codemirror_mode": {
    "name": "ipython",
    "version": 3
   },
   "file_extension": ".py",
   "mimetype": "text/x-python",
   "name": "python",
   "nbconvert_exporter": "python",
   "pygments_lexer": "ipython3",
   "version": "3.11.5"
  }
 },
 "nbformat": 4,
 "nbformat_minor": 5
}
