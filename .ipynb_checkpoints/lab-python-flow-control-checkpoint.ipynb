{
 "cells": [
  {
   "cell_type": "markdown",
   "id": "d3bfc191-8885-42ee-b0a0-bbab867c6f9f",
   "metadata": {
    "tags": []
   },
   "source": [
    "# Lab | Flow Control"
   ]
  },
  {
   "cell_type": "markdown",
   "id": "3851fcd1-cf98-4653-9c89-e003b7ec9400",
   "metadata": {},
   "source": [
    "## Exercise: Managing Customer Orders Optimized\n",
    "\n",
    "In the last lab, you were starting an online store that sells various products. To ensure smooth operations, you developed a program that manages customer orders and inventory.\n",
    "\n",
    "You did so without using flow control. Let's go a step further and improve this code.\n",
    "\n",
    "Follow the steps below to complete the exercise:\n",
    "\n",
    "1. Look at your code from the lab data structures, and improve repeated code with loops.\n",
    "\n",
    "2. Instead of asking the user to input the name of three products that a customer wants to order, do the following:\n",
    "    \n",
    "    a. Prompt the user to enter the name of a product that a customer wants to order.\n",
    "    \n",
    "    b. Add the product name to the \"customer_orders\" set.\n",
    "    \n",
    "    c. Ask the user if they want to add another product (yes/no).\n",
    "    \n",
    "    d. Continue the loop until the user does not want to add another product.\n",
    "\n",
    "3. Instead of updating the inventory by subtracting 1 from the quantity of each product, only do it for  the products that were ordered (those in \"customer_orders\")."
   ]
  },
  {
   "cell_type": "code",
   "execution_count": 2,
   "id": "08f30bd6",
   "metadata": {},
   "outputs": [
    {
     "name": "stdout",
     "output_type": "stream",
     "text": [
      "Enter the quantity of t-shirts available: 5\n",
      "Enter the quantity of mugs available: 5\n",
      "Enter the quantity of hats available: 5\n",
      "Enter the quantity of books available: 5\n",
      "Enter the quantity of keychains available: 5\n",
      "Enter the name of a product that a customer wants to order: mug\n",
      "Enter the name of another product that a customer wants to order: hat\n",
      "Enter the name of one more product that a customer wants to order: book\n",
      "Products in customer orders: {'mug', 'hat', 'book'}\n",
      "Order Statistics:\n",
      "Total Products Ordered: 3\n",
      "Percentage of Unique Products Ordered: 60.0\n",
      "Updated Inventory:\n",
      "t-shirt: 4\n",
      "mug: 4\n",
      "hat: 4\n",
      "book: 4\n",
      "keychain: 4\n"
     ]
    }
   ],
   "source": [
    "# Solution from last lab :\n",
    "\n",
    "# Exercise: Managing Customer Orders\n",
    "\n",
    "# Step 1\n",
    "products = [\"t-shirt\", \"mug\", \"hat\", \"book\", \"keychain\"]\n",
    "\n",
    "# Step 2\n",
    "inventory = {}\n",
    "\n",
    "# Step 3\n",
    "quantity = int(input(\"Enter the quantity of t-shirts available: \"))\n",
    "inventory[\"t-shirt\"] = quantity\n",
    "\n",
    "quantity = int(input(\"Enter the quantity of mugs available: \"))\n",
    "inventory[\"mug\"] = quantity\n",
    "\n",
    "quantity = int(input(\"Enter the quantity of hats available: \"))\n",
    "inventory[\"hat\"] = quantity\n",
    "\n",
    "quantity = int(input(\"Enter the quantity of books available: \"))\n",
    "inventory[\"book\"] = quantity\n",
    "\n",
    "quantity = int(input(\"Enter the quantity of keychains available: \"))\n",
    "inventory[\"keychain\"] = quantity\n",
    "\n",
    "# Step 4\n",
    "customer_orders = set()\n",
    "\n",
    "# Step 5\n",
    "product_name = input(\"Enter the name of a product that a customer wants to order: \")\n",
    "customer_orders.add(product_name)\n",
    "\n",
    "product_name = input(\"Enter the name of another product that a customer wants to order: \")\n",
    "customer_orders.add(product_name)\n",
    "\n",
    "product_name = input(\"Enter the name of one more product that a customer wants to order: \")\n",
    "customer_orders.add(product_name)\n",
    "\n",
    "# Step 6\n",
    "print(\"Products in customer orders:\", customer_orders)\n",
    "\n",
    "# Step 7\n",
    "total_products_ordered = len(customer_orders)\n",
    "percentage_ordered = (total_products_ordered / len(products)) * 100\n",
    "order_status = (total_products_ordered, percentage_ordered)\n",
    "\n",
    "# Step 8\n",
    "print(\"Order Statistics:\")\n",
    "print(\"Total Products Ordered:\", order_status[0])\n",
    "print(\"Percentage of Unique Products Ordered:\", order_status[1])\n",
    "\n",
    "# Step 9\n",
    "inventory[\"t-shirt\"] -= 1\n",
    "inventory[\"mug\"] -= 1\n",
    "inventory[\"hat\"] -= 1\n",
    "inventory[\"book\"] -= 1\n",
    "inventory[\"keychain\"] -= 1\n",
    "\n",
    "# Step 10\n",
    "print(\"Updated Inventory:\")\n",
    "print(\"t-shirt:\", inventory[\"t-shirt\"])\n",
    "print(\"mug:\", inventory[\"mug\"])\n",
    "print(\"hat:\", inventory[\"hat\"])\n",
    "print(\"book:\", inventory[\"book\"])\n",
    "print(\"keychain:\", inventory[\"keychain\"])\n"
   ]
  },
  {
   "cell_type": "code",
   "execution_count": 3,
   "id": "0a10fc81",
   "metadata": {},
   "outputs": [
    {
     "name": "stdout",
     "output_type": "stream",
     "text": [
      "enter quantity of t-shirt 5\n",
      "enter quantity of mug 5\n",
      "enter quantity of hat 5\n",
      "enter quantity of book 5\n",
      "enter quantity of keychain 5\n"
     ]
    }
   ],
   "source": [
    "\n",
    "products = [\"t-shirt\", \"mug\", \"hat\", \"book\", \"keychain\"]\n",
    "\n",
    "inventory = {}\n",
    "\n",
    "for product in products :\n",
    "    qty = input(f\"enter quantity of {product} \")\n",
    "    inventory[product] = int(qty)\n",
    "\n",
    "customer_orders = set()"
   ]
  },
  {
   "cell_type": "code",
   "execution_count": 4,
   "id": "a003901e",
   "metadata": {},
   "outputs": [
    {
     "name": "stdout",
     "output_type": "stream",
     "text": [
      "Enter the name of a product to order: mug\n",
      "Enter the name of a product to order: hat\n",
      "Enter the name of a product to order: book\n",
      "The products in the customer's order are: {'mug', 'hat', 'book'}\n"
     ]
    }
   ],
   "source": [
    "for _ in inventory :\n",
    "    product = input(\"Enter the name of a product to order: \")\n",
    "    if product in products:\n",
    "        customer_orders.add(product)  # Add the valid product name to the customer_orders set\n",
    "    else:\n",
    "        print(f\"{product} is not available in the inventory.\")\n",
    "\n",
    "print(\"The products in the customer's order are:\", customer_orders)"
   ]
  },
  {
   "cell_type": "code",
   "execution_count": null,
   "id": "533d45f6",
   "metadata": {},
   "outputs": [],
   "source": []
  }
 ],
 "metadata": {
  "kernelspec": {
   "display_name": "Python 3 (ipykernel)",
   "language": "python",
   "name": "python3"
  },
  "language_info": {
   "codemirror_mode": {
    "name": "ipython",
    "version": 3
   },
   "file_extension": ".py",
   "mimetype": "text/x-python",
   "name": "python",
   "nbconvert_exporter": "python",
   "pygments_lexer": "ipython3",
   "version": "3.11.5"
  }
 },
 "nbformat": 4,
 "nbformat_minor": 5
}
